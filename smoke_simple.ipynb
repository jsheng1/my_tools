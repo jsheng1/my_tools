{
 "cells": [
  {
   "cell_type": "code",
   "execution_count": 10,
   "metadata": {},
   "outputs": [
    {
     "name": "stdout",
     "output_type": "stream",
     "text": [
      "1954.4100476116796\n"
     ]
    }
   ],
   "source": [
    "import numpy as np\n",
    "\n",
    "# Parameters\n",
    "fire_area_km2 = 10000  # Fire area in square kilometers\n",
    "emission_factor = 210  # PM2.5 emission factor in 210 kg/hectare\n",
    "mixing_height = 500  # Mixing height in meters\n",
    "target = 35  # Target PM2.5 concentration in μg/m3\n",
    "\n",
    "# Convert fire area to hectares (1 km² = 100 hectares)\n",
    "fire_area_ha = fire_area_km2 * 100\n",
    "\n",
    "# Calculate the total emission rate Q in kg\n",
    "Q_kg = emission_factor * fire_area_ha  # Total emissions in kg\n",
    "\n",
    "# Convert Q to μg (1 kg = 1e9 μg )\n",
    "Q_ug = (Q_kg * 1e9)\n",
    "\n",
    "# Calculate the distance R in meters\n",
    "R_m = np.sqrt(Q_ug / (target * mixing_height * np.pi)) # [ug m-3] / ([ug m-3] [m]) \n",
    "\n",
    "# Convert R to kilometers\n",
    "R_km = R_m / 1000\n",
    "\n",
    "print(R_km)"
   ]
  }
 ],
 "metadata": {
  "kernelspec": {
   "display_name": "working",
   "language": "python",
   "name": "python3"
  },
  "language_info": {
   "codemirror_mode": {
    "name": "ipython",
    "version": 3
   },
   "file_extension": ".py",
   "mimetype": "text/x-python",
   "name": "python",
   "nbconvert_exporter": "python",
   "pygments_lexer": "ipython3",
   "version": "3.9.11"
  }
 },
 "nbformat": 4,
 "nbformat_minor": 2
}
